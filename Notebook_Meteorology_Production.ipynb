{
 "cells": [
  {
   "cell_type": "code",
   "execution_count": 64,
   "metadata": {},
   "outputs": [],
   "source": [
    "import glob\n",
    "import xarray as xr\n",
    "import numpy as np\n",
    "import pandas as pd\n",
    "\n",
    "list_of_variables = []"
   ]
  },
  {
   "cell_type": "code",
   "execution_count": 65,
   "metadata": {},
   "outputs": [],
   "source": [
    "# Lista con todos los datasets:\n",
    "list_datasets_paths = sorted(glob.glob(\"Data_life_cycle/Precipitation/*.nc\"))\n",
    "# Leemos uno a uno los datasets y los almacenamos en una lista:\n",
    "lists_datasets = []\n",
    "for path in list_datasets_paths:\n",
    "    weather_data = xr.open_dataset(path)\n",
    "    lists_datasets.append(weather_data)\n",
    "# Hacemos un xr.concat(lista_datasets) \n",
    "# para tenerlos concatenados por la dimensión tiempo\n",
    "precipitation_total = xr.concat(lists_datasets, dim='time')\n",
    "list_of_variables.append(precipitation_total)"
   ]
  },
  {
   "cell_type": "code",
   "execution_count": 66,
   "metadata": {},
   "outputs": [],
   "source": [
    "# Lista con todos los datasets:\n",
    "list_datasets_paths = sorted(glob.glob(\"Data_life_cycle/lowcloudcover/*.nc\"))\n",
    "# Leemos uno a uno los datasets y los almacenamos en una lista:\n",
    "lists_datasets = []\n",
    "for path in list_datasets_paths:\n",
    "    weather_data = xr.open_dataset(path)\n",
    "    lists_datasets.append(weather_data)\n",
    "# Hacemos un xr.concat(lista_datasets) \n",
    "# para tenerlos concatenados por la dimensión tiempo\n",
    "lowcloudcover_total = xr.concat(lists_datasets, dim='time')\n",
    "list_of_variables.append(lowcloudcover_total)"
   ]
  },
  {
   "cell_type": "code",
   "execution_count": 67,
   "metadata": {},
   "outputs": [],
   "source": [
    "# Lista con todos los datasets:\n",
    "list_datasets_paths = sorted(glob.glob(\"Data_life_cycle/Temperature/*.nc\"))\n",
    "# Leemos uno a uno los datasets y los almacenamos en una lista:\n",
    "lists_datasets = []\n",
    "for path in list_datasets_paths:\n",
    "    weather_data = xr.open_dataset(path)\n",
    "    lists_datasets.append(weather_data)\n",
    "# Hacemos un xr.concat(lista_datasets) \n",
    "# para tenerlos concatenados por la dimensión tiempo\n",
    "temperature_total = xr.concat(lists_datasets, dim='time')\n",
    "list_of_variables.append(temperature_total)"
   ]
  },
  {
   "cell_type": "code",
   "execution_count": 68,
   "metadata": {},
   "outputs": [],
   "source": [
    "# Lista con todos los datasets:\n",
    "list_datasets_paths = sorted(glob.glob(\"Data_life_cycle/snowfall/*.nc\"))\n",
    "# Leemos uno a uno los datasets y los almacenamos en una lista:\n",
    "lists_datasets = []\n",
    "for path in list_datasets_paths:\n",
    "    weather_data = xr.open_dataset(path)\n",
    "    lists_datasets.append(weather_data)\n",
    "# Hacemos un xr.concat(lista_datasets) \n",
    "# para tenerlos concatenados por la dimensión tiempo\n",
    "snowfall_total = xr.concat(lists_datasets, dim='time')\n",
    "list_of_variables.append(snowfall_total)"
   ]
  },
  {
   "cell_type": "code",
   "execution_count": 69,
   "metadata": {},
   "outputs": [],
   "source": [
    "# Lista con todos los datasets:\n",
    "list_datasets_paths = sorted(glob.glob(\"Data_life_cycle/windu/*.nc\"))\n",
    "# Leemos uno a uno los datasets y los almacenamos en una lista:\n",
    "lists_datasets = []\n",
    "for path in list_datasets_paths:\n",
    "    weather_data = xr.open_dataset(path)\n",
    "    lists_datasets.append(weather_data)\n",
    "# Hacemos un xr.concat(lista_datasets) \n",
    "# para tenerlos concatenados por la dimensión tiempo\n",
    "windu_total = xr.concat(lists_datasets, dim='time')\n",
    "list_of_variables.append(windu_total)"
   ]
  },
  {
   "cell_type": "code",
   "execution_count": 70,
   "metadata": {},
   "outputs": [],
   "source": [
    "# Lista con todos los datasets:\n",
    "list_datasets_paths = sorted(glob.glob(\"Data_life_cycle/windv/*.nc\"))\n",
    "# Leemos uno a uno los datasets y los almacenamos en una lista:\n",
    "lists_datasets = []\n",
    "for path in list_datasets_paths:\n",
    "    weather_data = xr.open_dataset(path)\n",
    "    lists_datasets.append(weather_data)\n",
    "# Hacemos un xr.concat(lista_datasets) \n",
    "# para tenerlos concatenados por la dimensión tiempo\n",
    "windv_total = xr.concat(lists_datasets, dim='time')\n",
    "list_of_variables.append(windv_total)"
   ]
  },
  {
   "cell_type": "code",
   "execution_count": 71,
   "metadata": {},
   "outputs": [],
   "source": [
    "total_dataset = xr.merge(list_of_variables)    "
   ]
  },
  {
   "cell_type": "code",
   "execution_count": 72,
   "metadata": {},
   "outputs": [],
   "source": [
    "total_dataset['Wind'] = np.sqrt(total_dataset['u10n_NON_CDM']**2 + total_dataset['v10n_NON_CDM']**2)"
   ]
  },
  {
   "cell_type": "code",
   "execution_count": 73,
   "metadata": {},
   "outputs": [],
   "source": [
    "total_dataset = total_dataset.drop(['u10n_NON_CDM', 'v10n_NON_CDM'])"
   ]
  },
  {
   "cell_type": "code",
   "execution_count": 74,
   "metadata": {},
   "outputs": [],
   "source": [
    "total_dataset = total_dataset.drop(['lat', 'lon', 'realization', 'leadtime', 'forecast_reference_time'])"
   ]
  },
  {
   "cell_type": "code",
   "execution_count": 75,
   "metadata": {},
   "outputs": [],
   "source": [
    "rename_dict = {'tprate': 'Precipitation', 'tas': 'Temperature',\n",
    "               'lcc_NON_CDM': 'CloudCover', 'sfrate': 'Snowfall'}\n",
    "total_dataset = total_dataset.rename(rename_dict)"
   ]
  },
  {
   "cell_type": "code",
   "execution_count": 76,
   "metadata": {},
   "outputs": [],
   "source": [
    "total_dataset = total_dataset.sel(time=slice(total_dataset.time.values[0],'2010-12-11 22:00:00'))"
   ]
  },
  {
   "cell_type": "code",
   "execution_count": 77,
   "metadata": {},
   "outputs": [],
   "source": [
    "total_dataset_pandas = total_dataset.to_dataframe()"
   ]
  },
  {
   "cell_type": "code",
   "execution_count": 78,
   "metadata": {},
   "outputs": [],
   "source": [
    "total_dataset_pandas.to_csv('meteorology_house.csv')"
   ]
  },
  {
   "cell_type": "code",
   "execution_count": 79,
   "metadata": {},
   "outputs": [
    {
     "data": {
      "text/html": [
       "<div>\n",
       "<style scoped>\n",
       "    .dataframe tbody tr th:only-of-type {\n",
       "        vertical-align: middle;\n",
       "    }\n",
       "\n",
       "    .dataframe tbody tr th {\n",
       "        vertical-align: top;\n",
       "    }\n",
       "\n",
       "    .dataframe thead th {\n",
       "        text-align: right;\n",
       "    }\n",
       "</style>\n",
       "<table border=\"1\" class=\"dataframe\">\n",
       "  <thead>\n",
       "    <tr style=\"text-align: right;\">\n",
       "      <th></th>\n",
       "      <th>Precipitation</th>\n",
       "      <th>CloudCover</th>\n",
       "      <th>Temperature</th>\n",
       "      <th>Snowfall</th>\n",
       "      <th>Wind</th>\n",
       "    </tr>\n",
       "    <tr>\n",
       "      <th>time</th>\n",
       "      <th></th>\n",
       "      <th></th>\n",
       "      <th></th>\n",
       "      <th></th>\n",
       "      <th></th>\n",
       "    </tr>\n",
       "  </thead>\n",
       "  <tbody>\n",
       "    <tr>\n",
       "      <th>2007-01-01 00:00:00</th>\n",
       "      <td>1.329846e-07</td>\n",
       "      <td>0.999695</td>\n",
       "      <td>286.432983</td>\n",
       "      <td>0.0</td>\n",
       "      <td>9.663516</td>\n",
       "    </tr>\n",
       "    <tr>\n",
       "      <th>2007-01-01 02:00:00</th>\n",
       "      <td>2.353721e-07</td>\n",
       "      <td>0.556274</td>\n",
       "      <td>285.986023</td>\n",
       "      <td>0.0</td>\n",
       "      <td>8.988889</td>\n",
       "    </tr>\n",
       "    <tr>\n",
       "      <th>2007-01-01 04:00:00</th>\n",
       "      <td>3.708734e-09</td>\n",
       "      <td>0.164459</td>\n",
       "      <td>284.502136</td>\n",
       "      <td>0.0</td>\n",
       "      <td>6.604268</td>\n",
       "    </tr>\n",
       "    <tr>\n",
       "      <th>2007-01-01 06:00:00</th>\n",
       "      <td>0.000000e+00</td>\n",
       "      <td>0.197144</td>\n",
       "      <td>283.309052</td>\n",
       "      <td>0.0</td>\n",
       "      <td>7.486063</td>\n",
       "    </tr>\n",
       "    <tr>\n",
       "      <th>2007-01-01 08:00:00</th>\n",
       "      <td>2.053049e-08</td>\n",
       "      <td>0.172791</td>\n",
       "      <td>282.313171</td>\n",
       "      <td>0.0</td>\n",
       "      <td>8.071110</td>\n",
       "    </tr>\n",
       "    <tr>\n",
       "      <th>2007-01-01 10:00:00</th>\n",
       "      <td>1.019902e-08</td>\n",
       "      <td>0.224701</td>\n",
       "      <td>NaN</td>\n",
       "      <td>0.0</td>\n",
       "      <td>7.210626</td>\n",
       "    </tr>\n",
       "    <tr>\n",
       "      <th>2007-01-01 12:00:00</th>\n",
       "      <td>0.000000e+00</td>\n",
       "      <td>0.417145</td>\n",
       "      <td>283.352661</td>\n",
       "      <td>0.0</td>\n",
       "      <td>7.869368</td>\n",
       "    </tr>\n",
       "    <tr>\n",
       "      <th>2007-01-01 14:00:00</th>\n",
       "      <td>0.000000e+00</td>\n",
       "      <td>0.487762</td>\n",
       "      <td>282.979828</td>\n",
       "      <td>0.0</td>\n",
       "      <td>5.367205</td>\n",
       "    </tr>\n",
       "    <tr>\n",
       "      <th>2007-01-01 16:00:00</th>\n",
       "      <td>0.000000e+00</td>\n",
       "      <td>0.099670</td>\n",
       "      <td>281.695831</td>\n",
       "      <td>0.0</td>\n",
       "      <td>4.332927</td>\n",
       "    </tr>\n",
       "    <tr>\n",
       "      <th>2007-01-01 18:00:00</th>\n",
       "      <td>1.083480e-07</td>\n",
       "      <td>0.190430</td>\n",
       "      <td>280.646057</td>\n",
       "      <td>0.0</td>\n",
       "      <td>5.040624</td>\n",
       "    </tr>\n",
       "  </tbody>\n",
       "</table>\n",
       "</div>"
      ],
      "text/plain": [
       "                     Precipitation  CloudCover  Temperature  Snowfall  \\\n",
       "time                                                                    \n",
       "2007-01-01 00:00:00   1.329846e-07    0.999695   286.432983       0.0   \n",
       "2007-01-01 02:00:00   2.353721e-07    0.556274   285.986023       0.0   \n",
       "2007-01-01 04:00:00   3.708734e-09    0.164459   284.502136       0.0   \n",
       "2007-01-01 06:00:00   0.000000e+00    0.197144   283.309052       0.0   \n",
       "2007-01-01 08:00:00   2.053049e-08    0.172791   282.313171       0.0   \n",
       "2007-01-01 10:00:00   1.019902e-08    0.224701          NaN       0.0   \n",
       "2007-01-01 12:00:00   0.000000e+00    0.417145   283.352661       0.0   \n",
       "2007-01-01 14:00:00   0.000000e+00    0.487762   282.979828       0.0   \n",
       "2007-01-01 16:00:00   0.000000e+00    0.099670   281.695831       0.0   \n",
       "2007-01-01 18:00:00   1.083480e-07    0.190430   280.646057       0.0   \n",
       "\n",
       "                         Wind  \n",
       "time                           \n",
       "2007-01-01 00:00:00  9.663516  \n",
       "2007-01-01 02:00:00  8.988889  \n",
       "2007-01-01 04:00:00  6.604268  \n",
       "2007-01-01 06:00:00  7.486063  \n",
       "2007-01-01 08:00:00  8.071110  \n",
       "2007-01-01 10:00:00  7.210626  \n",
       "2007-01-01 12:00:00  7.869368  \n",
       "2007-01-01 14:00:00  5.367205  \n",
       "2007-01-01 16:00:00  4.332927  \n",
       "2007-01-01 18:00:00  5.040624  "
      ]
     },
     "execution_count": 79,
     "metadata": {},
     "output_type": "execute_result"
    }
   ],
   "source": [
    "total_dataset_pandas.head(10)"
   ]
  },
  {
   "cell_type": "code",
   "execution_count": 80,
   "metadata": {},
   "outputs": [],
   "source": [
    "electricity_paths = sorted(glob.glob(\"power_consumption*.csv\"))"
   ]
  },
  {
   "cell_type": "code",
   "execution_count": 81,
   "metadata": {},
   "outputs": [
    {
     "name": "stdout",
     "output_type": "stream",
     "text": [
      "power_consumption_2007.csv\n",
      "power_consumption_2008.csv\n",
      "power_consumption_2009.csv\n",
      "power_consumption_2010.csv\n"
     ]
    }
   ],
   "source": [
    "data_list = []\n",
    "for i in range(len(electricity_paths)):\n",
    "    print(electricity_paths[i])\n",
    "    data = pd.read_csv(electricity_paths[i])\n",
    "    data_list.append(data)"
   ]
  },
  {
   "cell_type": "code",
   "execution_count": 82,
   "metadata": {},
   "outputs": [],
   "source": [
    "power_consumption_total = pd.concat(data_list)"
   ]
  },
  {
   "cell_type": "code",
   "execution_count": 83,
   "metadata": {},
   "outputs": [],
   "source": [
    "power_consumption_total = power_consumption_total.set_index('time')"
   ]
  },
  {
   "cell_type": "code",
   "execution_count": 84,
   "metadata": {},
   "outputs": [
    {
     "data": {
      "text/plain": [
       "DatetimeIndex(['2007-01-01 00:00:00', '2007-01-01 02:00:00',\n",
       "               '2007-01-01 04:00:00', '2007-01-01 06:00:00',\n",
       "               '2007-01-01 08:00:00', '2007-01-01 10:00:00',\n",
       "               '2007-01-01 12:00:00', '2007-01-01 14:00:00',\n",
       "               '2007-01-01 16:00:00', '2007-01-01 18:00:00',\n",
       "               ...\n",
       "               '2010-12-11 04:00:00', '2010-12-11 06:00:00',\n",
       "               '2010-12-11 08:00:00', '2010-12-11 10:00:00',\n",
       "               '2010-12-11 12:00:00', '2010-12-11 14:00:00',\n",
       "               '2010-12-11 16:00:00', '2010-12-11 18:00:00',\n",
       "               '2010-12-11 20:00:00', '2010-12-11 22:00:00'],\n",
       "              dtype='datetime64[ns]', name='time', length=17292, freq=None)"
      ]
     },
     "execution_count": 84,
     "metadata": {},
     "output_type": "execute_result"
    }
   ],
   "source": [
    "total_dataset_pandas.index"
   ]
  },
  {
   "cell_type": "code",
   "execution_count": 85,
   "metadata": {},
   "outputs": [
    {
     "data": {
      "text/plain": [
       "Index(['2007-01-01 00:00:00', '2007-01-01 02:00:00', '2007-01-01 04:00:00',\n",
       "       '2007-01-01 06:00:00', '2007-01-01 08:00:00', '2007-01-01 10:00:00',\n",
       "       '2007-01-01 12:00:00', '2007-01-01 14:00:00', '2007-01-01 16:00:00',\n",
       "       '2007-01-01 18:00:00',\n",
       "       ...\n",
       "       '2010-12-11 04:00:00', '2010-12-11 06:00:00', '2010-12-11 08:00:00',\n",
       "       '2010-12-11 10:00:00', '2010-12-11 12:00:00', '2010-12-11 14:00:00',\n",
       "       '2010-12-11 16:00:00', '2010-12-11 18:00:00', '2010-12-11 20:00:00',\n",
       "       '2010-12-11 22:00:00'],\n",
       "      dtype='object', name='time', length=17295)"
      ]
     },
     "execution_count": 85,
     "metadata": {},
     "output_type": "execute_result"
    }
   ],
   "source": [
    "power_consumption_total.index"
   ]
  },
  {
   "cell_type": "code",
   "execution_count": 86,
   "metadata": {},
   "outputs": [
    {
     "data": {
      "text/plain": [
       "17292"
      ]
     },
     "execution_count": 86,
     "metadata": {},
     "output_type": "execute_result"
    }
   ],
   "source": [
    "len(total_dataset_pandas.index)"
   ]
  },
  {
   "cell_type": "code",
   "execution_count": 87,
   "metadata": {},
   "outputs": [
    {
     "data": {
      "text/plain": [
       "17295"
      ]
     },
     "execution_count": 87,
     "metadata": {},
     "output_type": "execute_result"
    }
   ],
   "source": [
    "len(power_consumption_total.index)"
   ]
  },
  {
   "cell_type": "code",
   "execution_count": 88,
   "metadata": {},
   "outputs": [],
   "source": [
    "total = pd.merge(power_consumption_total, total_dataset_pandas, left_index=True, right_index=True, how = \"outer\")"
   ]
  },
  {
   "cell_type": "code",
   "execution_count": 89,
   "metadata": {},
   "outputs": [],
   "source": [
    "total.to_csv('final_dataset.csv')"
   ]
  },
  {
   "cell_type": "code",
   "execution_count": 90,
   "metadata": {},
   "outputs": [
    {
     "data": {
      "text/html": [
       "<div>\n",
       "<style scoped>\n",
       "    .dataframe tbody tr th:only-of-type {\n",
       "        vertical-align: middle;\n",
       "    }\n",
       "\n",
       "    .dataframe tbody tr th {\n",
       "        vertical-align: top;\n",
       "    }\n",
       "\n",
       "    .dataframe thead th {\n",
       "        text-align: right;\n",
       "    }\n",
       "</style>\n",
       "<table border=\"1\" class=\"dataframe\">\n",
       "  <thead>\n",
       "    <tr style=\"text-align: right;\">\n",
       "      <th></th>\n",
       "      <th>Global_active_power</th>\n",
       "      <th>Global_reactive_power</th>\n",
       "      <th>Voltage</th>\n",
       "      <th>Global_intensity</th>\n",
       "      <th>Sub_metering_1</th>\n",
       "      <th>Sub_metering_2</th>\n",
       "      <th>Sub_metering_3</th>\n",
       "      <th>Precipitation</th>\n",
       "      <th>CloudCover</th>\n",
       "      <th>Temperature</th>\n",
       "      <th>Snowfall</th>\n",
       "      <th>Wind</th>\n",
       "    </tr>\n",
       "    <tr>\n",
       "      <th>time</th>\n",
       "      <th></th>\n",
       "      <th></th>\n",
       "      <th></th>\n",
       "      <th></th>\n",
       "      <th></th>\n",
       "      <th></th>\n",
       "      <th></th>\n",
       "      <th></th>\n",
       "      <th></th>\n",
       "      <th></th>\n",
       "      <th></th>\n",
       "      <th></th>\n",
       "    </tr>\n",
       "  </thead>\n",
       "  <tbody>\n",
       "    <tr>\n",
       "      <th>2007-01-01 00:00:00</th>\n",
       "      <td>304.442</td>\n",
       "      <td>11.066</td>\n",
       "      <td>28947.47</td>\n",
       "      <td>1258.4</td>\n",
       "      <td>0.0</td>\n",
       "      <td>35.0</td>\n",
       "      <td>0.0</td>\n",
       "      <td>1.329846e-07</td>\n",
       "      <td>0.999695</td>\n",
       "      <td>286.432983</td>\n",
       "      <td>0.0</td>\n",
       "      <td>9.663516</td>\n",
       "    </tr>\n",
       "    <tr>\n",
       "      <th>2007-01-01 02:00:00</th>\n",
       "      <td>307.440</td>\n",
       "      <td>11.806</td>\n",
       "      <td>29187.95</td>\n",
       "      <td>1256.4</td>\n",
       "      <td>0.0</td>\n",
       "      <td>36.0</td>\n",
       "      <td>0.0</td>\n",
       "      <td>2.353721e-07</td>\n",
       "      <td>0.556274</td>\n",
       "      <td>285.986023</td>\n",
       "      <td>0.0</td>\n",
       "      <td>8.988889</td>\n",
       "    </tr>\n",
       "    <tr>\n",
       "      <th>2007-01-01 04:00:00</th>\n",
       "      <td>297.118</td>\n",
       "      <td>11.390</td>\n",
       "      <td>29088.29</td>\n",
       "      <td>1215.6</td>\n",
       "      <td>0.0</td>\n",
       "      <td>35.0</td>\n",
       "      <td>0.0</td>\n",
       "      <td>3.708734e-09</td>\n",
       "      <td>0.164459</td>\n",
       "      <td>284.502136</td>\n",
       "      <td>0.0</td>\n",
       "      <td>6.604268</td>\n",
       "    </tr>\n",
       "    <tr>\n",
       "      <th>2007-01-01 06:00:00</th>\n",
       "      <td>294.180</td>\n",
       "      <td>11.580</td>\n",
       "      <td>28892.16</td>\n",
       "      <td>1213.4</td>\n",
       "      <td>0.0</td>\n",
       "      <td>33.0</td>\n",
       "      <td>0.0</td>\n",
       "      <td>0.000000e+00</td>\n",
       "      <td>0.197144</td>\n",
       "      <td>283.309052</td>\n",
       "      <td>0.0</td>\n",
       "      <td>7.486063</td>\n",
       "    </tr>\n",
       "    <tr>\n",
       "      <th>2007-01-01 08:00:00</th>\n",
       "      <td>335.272</td>\n",
       "      <td>8.742</td>\n",
       "      <td>28855.32</td>\n",
       "      <td>1386.0</td>\n",
       "      <td>0.0</td>\n",
       "      <td>3.0</td>\n",
       "      <td>722.0</td>\n",
       "      <td>2.053049e-08</td>\n",
       "      <td>0.172791</td>\n",
       "      <td>282.313171</td>\n",
       "      <td>0.0</td>\n",
       "      <td>8.071110</td>\n",
       "    </tr>\n",
       "  </tbody>\n",
       "</table>\n",
       "</div>"
      ],
      "text/plain": [
       "                     Global_active_power  Global_reactive_power   Voltage  \\\n",
       "time                                                                        \n",
       "2007-01-01 00:00:00              304.442                 11.066  28947.47   \n",
       "2007-01-01 02:00:00              307.440                 11.806  29187.95   \n",
       "2007-01-01 04:00:00              297.118                 11.390  29088.29   \n",
       "2007-01-01 06:00:00              294.180                 11.580  28892.16   \n",
       "2007-01-01 08:00:00              335.272                  8.742  28855.32   \n",
       "\n",
       "                     Global_intensity  Sub_metering_1  Sub_metering_2  \\\n",
       "time                                                                    \n",
       "2007-01-01 00:00:00            1258.4             0.0            35.0   \n",
       "2007-01-01 02:00:00            1256.4             0.0            36.0   \n",
       "2007-01-01 04:00:00            1215.6             0.0            35.0   \n",
       "2007-01-01 06:00:00            1213.4             0.0            33.0   \n",
       "2007-01-01 08:00:00            1386.0             0.0             3.0   \n",
       "\n",
       "                     Sub_metering_3  Precipitation  CloudCover  Temperature  \\\n",
       "time                                                                          \n",
       "2007-01-01 00:00:00             0.0   1.329846e-07    0.999695   286.432983   \n",
       "2007-01-01 02:00:00             0.0   2.353721e-07    0.556274   285.986023   \n",
       "2007-01-01 04:00:00             0.0   3.708734e-09    0.164459   284.502136   \n",
       "2007-01-01 06:00:00             0.0   0.000000e+00    0.197144   283.309052   \n",
       "2007-01-01 08:00:00           722.0   2.053049e-08    0.172791   282.313171   \n",
       "\n",
       "                     Snowfall      Wind  \n",
       "time                                     \n",
       "2007-01-01 00:00:00       0.0  9.663516  \n",
       "2007-01-01 02:00:00       0.0  8.988889  \n",
       "2007-01-01 04:00:00       0.0  6.604268  \n",
       "2007-01-01 06:00:00       0.0  7.486063  \n",
       "2007-01-01 08:00:00       0.0  8.071110  "
      ]
     },
     "execution_count": 90,
     "metadata": {},
     "output_type": "execute_result"
    }
   ],
   "source": [
    "total.head()"
   ]
  }
 ],
 "metadata": {
  "kernelspec": {
   "display_name": "Python 3",
   "language": "python",
   "name": "python3"
  },
  "language_info": {
   "codemirror_mode": {
    "name": "ipython",
    "version": 3
   },
   "file_extension": ".py",
   "mimetype": "text/x-python",
   "name": "python",
   "nbconvert_exporter": "python",
   "pygments_lexer": "ipython3",
   "version": "3.7.5"
  }
 },
 "nbformat": 4,
 "nbformat_minor": 2
}
