{
 "cells": [
  {
   "cell_type": "code",
   "execution_count": 2,
   "metadata": {
    "colab": {},
    "colab_type": "code",
    "id": "nDe6PRrLneUh"
   },
   "outputs": [],
   "source": [
    "import xarray as xr\n",
    "import pandas as pd\n",
    "import datetime"
   ]
  },
  {
   "cell_type": "markdown",
   "metadata": {
    "colab_type": "text",
    "id": "Es-q1CAfbPp9"
   },
   "source": [
    "En primer lugar, leemos los datos de consumo eléctrico. Una vez leidos, hacer una agregación de los datos de manera que haya datos cada 2 horas y que concuerde con los datasets meteorológicos. Por tanto, vamos a tener datos a las 0:00, 2:00, 4:00, ..."
   ]
  },
  {
   "cell_type": "code",
   "execution_count": null,
   "metadata": {
    "colab": {},
    "colab_type": "code",
    "id": "sWQ2t9d8Oi27"
   },
   "outputs": [],
   "source": [
    "# Leer el .txt y convertir a xarray.Dataset\n",
    "input_path = 'household_power_consumption.txt'\n",
    "header = ['Date', 'Time', 'Global_active_power', 'Global_reactive_power',\n",
    "          'Voltage', 'Global_intensity', 'Sub_metering_1', 'Sub_metering_2',\n",
    "          'Sub_metering_3']\n",
    "usecols = [0, 1, 2, 3, 4, 5, 6, 7, 8]\n",
    "dates_list = [[0, 1]]\n",
    "df = pd.read_csv(input_path, skiprows=1, header=None, sep=\";\", engine='python',\n",
    "                index_col=None, names=header,\n",
    "                usecols=usecols, parse_dates=dates_list)"
   ]
  },
  {
   "cell_type": "code",
   "execution_count": null,
   "metadata": {
    "colab": {},
    "colab_type": "code",
    "id": "8JVgnH3HC5m5"
   },
   "outputs": [],
   "source": [
    "df = df.rename(columns={'Date_Time': 'time'})"
   ]
  },
  {
   "cell_type": "code",
   "execution_count": null,
   "metadata": {
    "colab": {
     "base_uri": "https://localhost:8080/",
     "height": 206
    },
    "colab_type": "code",
    "id": "zQpxENWPQ5oW",
    "outputId": "12c3bc3b-3598-40cb-be85-5130b2b0efe3"
   },
   "outputs": [],
   "source": [
    "df.head()"
   ]
  },
  {
   "cell_type": "code",
   "execution_count": null,
   "metadata": {
    "colab": {},
    "colab_type": "code",
    "id": "6TsjNh3pQ3JL"
   },
   "outputs": [],
   "source": [
    "df = df.set_index('time')"
   ]
  },
  {
   "cell_type": "code",
   "execution_count": null,
   "metadata": {
    "colab": {
     "base_uri": "https://localhost:8080/",
     "height": 238
    },
    "colab_type": "code",
    "id": "Gf0SZC1pROID",
    "outputId": "e5c554fe-8e8d-48a6-faa7-8ec79457d420"
   },
   "outputs": [],
   "source": [
    "df.head()"
   ]
  },
  {
   "cell_type": "code",
   "execution_count": null,
   "metadata": {
    "colab": {
     "base_uri": "https://localhost:8080/",
     "height": 52
    },
    "colab_type": "code",
    "id": "bHR-2eSq4bxE",
    "outputId": "413b13e4-a44a-4e0e-c4ed-493ec8303701"
   },
   "outputs": [],
   "source": [
    "import numpy as np\n",
    "for col in df.columns:\n",
    "  df.loc[df[col] == '?', col] = np.nan"
   ]
  },
  {
   "cell_type": "code",
   "execution_count": 9,
   "metadata": {
    "colab": {},
    "colab_type": "code",
    "id": "aYtXi3qx6mK6"
   },
   "outputs": [],
   "source": [
    "types_dict = {'Global_active_power': float, 'Global_reactive_power': float,\n",
    "              'Voltage': float, 'Global_intensity': float,\n",
    "              'Sub_metering_1': float, 'Sub_metering_2': float,\n",
    "              'Sub_metering_3': float}\n",
    "for col, col_type in types_dict.items():\n",
    "    df[col] = df[col].astype(col_type)"
   ]
  },
  {
   "cell_type": "code",
   "execution_count": null,
   "metadata": {},
   "outputs": [],
   "source": [
    "day = range(8, 6)\n",
    "summer = range(6, 9)\n",
    "fall = range(9, 12)\n",
    "\n",
    "def season(x):\n",
    "    if x in spring:\n",
    "       return 1\n",
    "    if x in summer:\n",
    "       return 2\n",
    "    if x in fall:\n",
    "       return 3\n",
    "    else :\n",
    "       return 4\n",
    "\n",
    "df['season'] = df.index.to_series().dt.month.map(lambda x : season(x))"
   ]
  },
  {
   "cell_type": "code",
   "execution_count": 10,
   "metadata": {
    "colab": {},
    "colab_type": "code",
    "id": "CY5P6QmCQtgK"
   },
   "outputs": [],
   "source": [
    "df_2007 = df.loc[datetime.date(year=2007,month=1,day=1):datetime.date(year=2008,month=1,day=1)]\n",
    "df_2008 = df.loc[datetime.date(year=2008,month=1,day=1):datetime.date(year=2009,month=1,day=1)]\n",
    "df_2009 = df.loc[datetime.date(year=2009,month=1,day=1):datetime.date(year=2010,month=1,day=1)]\n",
    "df_2010 = df.loc[datetime.date(year=2010,month=1,day=1):]"
   ]
  },
  {
   "cell_type": "code",
   "execution_count": 11,
   "metadata": {
    "colab": {
     "base_uri": "https://localhost:8080/",
     "height": 455
    },
    "colab_type": "code",
    "id": "iHaCTm1wxiUt",
    "outputId": "f4e14d9b-f363-4ab3-a42b-50ba8bbc129f"
   },
   "outputs": [
    {
     "data": {
      "text/html": [
       "<div>\n",
       "<style scoped>\n",
       "    .dataframe tbody tr th:only-of-type {\n",
       "        vertical-align: middle;\n",
       "    }\n",
       "\n",
       "    .dataframe tbody tr th {\n",
       "        vertical-align: top;\n",
       "    }\n",
       "\n",
       "    .dataframe thead th {\n",
       "        text-align: right;\n",
       "    }\n",
       "</style>\n",
       "<table border=\"1\" class=\"dataframe\">\n",
       "  <thead>\n",
       "    <tr style=\"text-align: right;\">\n",
       "      <th></th>\n",
       "      <th>Global_active_power</th>\n",
       "      <th>Global_reactive_power</th>\n",
       "      <th>Voltage</th>\n",
       "      <th>Global_intensity</th>\n",
       "      <th>Sub_metering_1</th>\n",
       "      <th>Sub_metering_2</th>\n",
       "      <th>Sub_metering_3</th>\n",
       "    </tr>\n",
       "    <tr>\n",
       "      <th>time</th>\n",
       "      <th></th>\n",
       "      <th></th>\n",
       "      <th></th>\n",
       "      <th></th>\n",
       "      <th></th>\n",
       "      <th></th>\n",
       "      <th></th>\n",
       "    </tr>\n",
       "  </thead>\n",
       "  <tbody>\n",
       "    <tr>\n",
       "      <th>2007-01-01 00:00:00</th>\n",
       "      <td>2.580</td>\n",
       "      <td>0.136</td>\n",
       "      <td>241.97</td>\n",
       "      <td>10.6</td>\n",
       "      <td>0.0</td>\n",
       "      <td>0.0</td>\n",
       "      <td>0.0</td>\n",
       "    </tr>\n",
       "    <tr>\n",
       "      <th>2007-01-01 00:01:00</th>\n",
       "      <td>2.552</td>\n",
       "      <td>0.100</td>\n",
       "      <td>241.75</td>\n",
       "      <td>10.4</td>\n",
       "      <td>0.0</td>\n",
       "      <td>0.0</td>\n",
       "      <td>0.0</td>\n",
       "    </tr>\n",
       "    <tr>\n",
       "      <th>2007-01-01 00:02:00</th>\n",
       "      <td>2.550</td>\n",
       "      <td>0.100</td>\n",
       "      <td>241.64</td>\n",
       "      <td>10.4</td>\n",
       "      <td>0.0</td>\n",
       "      <td>0.0</td>\n",
       "      <td>0.0</td>\n",
       "    </tr>\n",
       "    <tr>\n",
       "      <th>2007-01-01 00:03:00</th>\n",
       "      <td>2.550</td>\n",
       "      <td>0.100</td>\n",
       "      <td>241.71</td>\n",
       "      <td>10.4</td>\n",
       "      <td>0.0</td>\n",
       "      <td>0.0</td>\n",
       "      <td>0.0</td>\n",
       "    </tr>\n",
       "    <tr>\n",
       "      <th>2007-01-01 00:04:00</th>\n",
       "      <td>2.554</td>\n",
       "      <td>0.100</td>\n",
       "      <td>241.98</td>\n",
       "      <td>10.4</td>\n",
       "      <td>0.0</td>\n",
       "      <td>0.0</td>\n",
       "      <td>0.0</td>\n",
       "    </tr>\n",
       "    <tr>\n",
       "      <th>...</th>\n",
       "      <td>...</td>\n",
       "      <td>...</td>\n",
       "      <td>...</td>\n",
       "      <td>...</td>\n",
       "      <td>...</td>\n",
       "      <td>...</td>\n",
       "      <td>...</td>\n",
       "    </tr>\n",
       "    <tr>\n",
       "      <th>2007-12-31 23:56:00</th>\n",
       "      <td>1.732</td>\n",
       "      <td>0.210</td>\n",
       "      <td>242.42</td>\n",
       "      <td>7.2</td>\n",
       "      <td>0.0</td>\n",
       "      <td>0.0</td>\n",
       "      <td>18.0</td>\n",
       "    </tr>\n",
       "    <tr>\n",
       "      <th>2007-12-31 23:57:00</th>\n",
       "      <td>1.732</td>\n",
       "      <td>0.210</td>\n",
       "      <td>242.50</td>\n",
       "      <td>7.2</td>\n",
       "      <td>0.0</td>\n",
       "      <td>0.0</td>\n",
       "      <td>18.0</td>\n",
       "    </tr>\n",
       "    <tr>\n",
       "      <th>2007-12-31 23:58:00</th>\n",
       "      <td>1.684</td>\n",
       "      <td>0.144</td>\n",
       "      <td>242.18</td>\n",
       "      <td>7.0</td>\n",
       "      <td>0.0</td>\n",
       "      <td>0.0</td>\n",
       "      <td>18.0</td>\n",
       "    </tr>\n",
       "    <tr>\n",
       "      <th>2007-12-31 23:59:00</th>\n",
       "      <td>1.628</td>\n",
       "      <td>0.072</td>\n",
       "      <td>241.79</td>\n",
       "      <td>6.6</td>\n",
       "      <td>0.0</td>\n",
       "      <td>0.0</td>\n",
       "      <td>18.0</td>\n",
       "    </tr>\n",
       "    <tr>\n",
       "      <th>2008-01-01 00:00:00</th>\n",
       "      <td>1.620</td>\n",
       "      <td>0.070</td>\n",
       "      <td>241.25</td>\n",
       "      <td>6.6</td>\n",
       "      <td>0.0</td>\n",
       "      <td>0.0</td>\n",
       "      <td>18.0</td>\n",
       "    </tr>\n",
       "  </tbody>\n",
       "</table>\n",
       "<p>525601 rows × 7 columns</p>\n",
       "</div>"
      ],
      "text/plain": [
       "                     Global_active_power  Global_reactive_power  Voltage  \\\n",
       "time                                                                       \n",
       "2007-01-01 00:00:00                2.580                  0.136   241.97   \n",
       "2007-01-01 00:01:00                2.552                  0.100   241.75   \n",
       "2007-01-01 00:02:00                2.550                  0.100   241.64   \n",
       "2007-01-01 00:03:00                2.550                  0.100   241.71   \n",
       "2007-01-01 00:04:00                2.554                  0.100   241.98   \n",
       "...                                  ...                    ...      ...   \n",
       "2007-12-31 23:56:00                1.732                  0.210   242.42   \n",
       "2007-12-31 23:57:00                1.732                  0.210   242.50   \n",
       "2007-12-31 23:58:00                1.684                  0.144   242.18   \n",
       "2007-12-31 23:59:00                1.628                  0.072   241.79   \n",
       "2008-01-01 00:00:00                1.620                  0.070   241.25   \n",
       "\n",
       "                     Global_intensity  Sub_metering_1  Sub_metering_2  \\\n",
       "time                                                                    \n",
       "2007-01-01 00:00:00              10.6             0.0             0.0   \n",
       "2007-01-01 00:01:00              10.4             0.0             0.0   \n",
       "2007-01-01 00:02:00              10.4             0.0             0.0   \n",
       "2007-01-01 00:03:00              10.4             0.0             0.0   \n",
       "2007-01-01 00:04:00              10.4             0.0             0.0   \n",
       "...                               ...             ...             ...   \n",
       "2007-12-31 23:56:00               7.2             0.0             0.0   \n",
       "2007-12-31 23:57:00               7.2             0.0             0.0   \n",
       "2007-12-31 23:58:00               7.0             0.0             0.0   \n",
       "2007-12-31 23:59:00               6.6             0.0             0.0   \n",
       "2008-01-01 00:00:00               6.6             0.0             0.0   \n",
       "\n",
       "                     Sub_metering_3  \n",
       "time                                 \n",
       "2007-01-01 00:00:00             0.0  \n",
       "2007-01-01 00:01:00             0.0  \n",
       "2007-01-01 00:02:00             0.0  \n",
       "2007-01-01 00:03:00             0.0  \n",
       "2007-01-01 00:04:00             0.0  \n",
       "...                             ...  \n",
       "2007-12-31 23:56:00            18.0  \n",
       "2007-12-31 23:57:00            18.0  \n",
       "2007-12-31 23:58:00            18.0  \n",
       "2007-12-31 23:59:00            18.0  \n",
       "2008-01-01 00:00:00            18.0  \n",
       "\n",
       "[525601 rows x 7 columns]"
      ]
     },
     "execution_count": 11,
     "metadata": {},
     "output_type": "execute_result"
    }
   ],
   "source": [
    "df_2007"
   ]
  },
  {
   "cell_type": "code",
   "execution_count": 12,
   "metadata": {
    "colab": {},
    "colab_type": "code",
    "id": "cNUsTIn-vcN7"
   },
   "outputs": [],
   "source": [
    "df_2007 = df_2007.resample('2H').sum()\n",
    "df_2008 = df_2008.resample('2H').sum()\n",
    "df_2009 = df_2009.resample('2H').sum()\n",
    "df_2010 = df_2010.resample('2H').sum()"
   ]
  },
  {
   "cell_type": "code",
   "execution_count": 13,
   "metadata": {
    "colab": {
     "base_uri": "https://localhost:8080/",
     "height": 455
    },
    "colab_type": "code",
    "id": "Wyh8GvgH0QRJ",
    "outputId": "4d419b68-a796-477a-87e7-50d5d2a06a04"
   },
   "outputs": [
    {
     "data": {
      "text/html": [
       "<div>\n",
       "<style scoped>\n",
       "    .dataframe tbody tr th:only-of-type {\n",
       "        vertical-align: middle;\n",
       "    }\n",
       "\n",
       "    .dataframe tbody tr th {\n",
       "        vertical-align: top;\n",
       "    }\n",
       "\n",
       "    .dataframe thead th {\n",
       "        text-align: right;\n",
       "    }\n",
       "</style>\n",
       "<table border=\"1\" class=\"dataframe\">\n",
       "  <thead>\n",
       "    <tr style=\"text-align: right;\">\n",
       "      <th></th>\n",
       "      <th>Global_active_power</th>\n",
       "      <th>Global_reactive_power</th>\n",
       "      <th>Voltage</th>\n",
       "      <th>Global_intensity</th>\n",
       "      <th>Sub_metering_1</th>\n",
       "      <th>Sub_metering_2</th>\n",
       "      <th>Sub_metering_3</th>\n",
       "    </tr>\n",
       "    <tr>\n",
       "      <th>time</th>\n",
       "      <th></th>\n",
       "      <th></th>\n",
       "      <th></th>\n",
       "      <th></th>\n",
       "      <th></th>\n",
       "      <th></th>\n",
       "      <th></th>\n",
       "    </tr>\n",
       "  </thead>\n",
       "  <tbody>\n",
       "    <tr>\n",
       "      <th>2007-01-01 00:00:00</th>\n",
       "      <td>304.442</td>\n",
       "      <td>11.066</td>\n",
       "      <td>28947.47</td>\n",
       "      <td>1258.4</td>\n",
       "      <td>0.0</td>\n",
       "      <td>35.0</td>\n",
       "      <td>0.0</td>\n",
       "    </tr>\n",
       "    <tr>\n",
       "      <th>2007-01-01 02:00:00</th>\n",
       "      <td>307.440</td>\n",
       "      <td>11.806</td>\n",
       "      <td>29187.95</td>\n",
       "      <td>1256.4</td>\n",
       "      <td>0.0</td>\n",
       "      <td>36.0</td>\n",
       "      <td>0.0</td>\n",
       "    </tr>\n",
       "    <tr>\n",
       "      <th>2007-01-01 04:00:00</th>\n",
       "      <td>297.118</td>\n",
       "      <td>11.390</td>\n",
       "      <td>29088.29</td>\n",
       "      <td>1215.6</td>\n",
       "      <td>0.0</td>\n",
       "      <td>35.0</td>\n",
       "      <td>0.0</td>\n",
       "    </tr>\n",
       "    <tr>\n",
       "      <th>2007-01-01 06:00:00</th>\n",
       "      <td>294.180</td>\n",
       "      <td>11.580</td>\n",
       "      <td>28892.16</td>\n",
       "      <td>1213.4</td>\n",
       "      <td>0.0</td>\n",
       "      <td>33.0</td>\n",
       "      <td>0.0</td>\n",
       "    </tr>\n",
       "    <tr>\n",
       "      <th>2007-01-01 08:00:00</th>\n",
       "      <td>335.272</td>\n",
       "      <td>8.742</td>\n",
       "      <td>28855.32</td>\n",
       "      <td>1386.0</td>\n",
       "      <td>0.0</td>\n",
       "      <td>3.0</td>\n",
       "      <td>722.0</td>\n",
       "    </tr>\n",
       "    <tr>\n",
       "      <th>...</th>\n",
       "      <td>...</td>\n",
       "      <td>...</td>\n",
       "      <td>...</td>\n",
       "      <td>...</td>\n",
       "      <td>...</td>\n",
       "      <td>...</td>\n",
       "      <td>...</td>\n",
       "    </tr>\n",
       "    <tr>\n",
       "      <th>2007-12-31 16:00:00</th>\n",
       "      <td>312.360</td>\n",
       "      <td>9.896</td>\n",
       "      <td>28767.19</td>\n",
       "      <td>1301.6</td>\n",
       "      <td>0.0</td>\n",
       "      <td>29.0</td>\n",
       "      <td>2116.0</td>\n",
       "    </tr>\n",
       "    <tr>\n",
       "      <th>2007-12-31 18:00:00</th>\n",
       "      <td>387.868</td>\n",
       "      <td>7.752</td>\n",
       "      <td>28231.29</td>\n",
       "      <td>1644.2</td>\n",
       "      <td>0.0</td>\n",
       "      <td>29.0</td>\n",
       "      <td>2040.0</td>\n",
       "    </tr>\n",
       "    <tr>\n",
       "      <th>2007-12-31 20:00:00</th>\n",
       "      <td>210.406</td>\n",
       "      <td>8.536</td>\n",
       "      <td>28556.78</td>\n",
       "      <td>876.2</td>\n",
       "      <td>0.0</td>\n",
       "      <td>28.0</td>\n",
       "      <td>2086.0</td>\n",
       "    </tr>\n",
       "    <tr>\n",
       "      <th>2007-12-31 22:00:00</th>\n",
       "      <td>193.822</td>\n",
       "      <td>8.736</td>\n",
       "      <td>28903.76</td>\n",
       "      <td>797.6</td>\n",
       "      <td>0.0</td>\n",
       "      <td>28.0</td>\n",
       "      <td>2135.0</td>\n",
       "    </tr>\n",
       "    <tr>\n",
       "      <th>2008-01-01 00:00:00</th>\n",
       "      <td>1.620</td>\n",
       "      <td>0.070</td>\n",
       "      <td>241.25</td>\n",
       "      <td>6.6</td>\n",
       "      <td>0.0</td>\n",
       "      <td>0.0</td>\n",
       "      <td>18.0</td>\n",
       "    </tr>\n",
       "  </tbody>\n",
       "</table>\n",
       "<p>4381 rows × 7 columns</p>\n",
       "</div>"
      ],
      "text/plain": [
       "                     Global_active_power  Global_reactive_power   Voltage  \\\n",
       "time                                                                        \n",
       "2007-01-01 00:00:00              304.442                 11.066  28947.47   \n",
       "2007-01-01 02:00:00              307.440                 11.806  29187.95   \n",
       "2007-01-01 04:00:00              297.118                 11.390  29088.29   \n",
       "2007-01-01 06:00:00              294.180                 11.580  28892.16   \n",
       "2007-01-01 08:00:00              335.272                  8.742  28855.32   \n",
       "...                                  ...                    ...       ...   \n",
       "2007-12-31 16:00:00              312.360                  9.896  28767.19   \n",
       "2007-12-31 18:00:00              387.868                  7.752  28231.29   \n",
       "2007-12-31 20:00:00              210.406                  8.536  28556.78   \n",
       "2007-12-31 22:00:00              193.822                  8.736  28903.76   \n",
       "2008-01-01 00:00:00                1.620                  0.070    241.25   \n",
       "\n",
       "                     Global_intensity  Sub_metering_1  Sub_metering_2  \\\n",
       "time                                                                    \n",
       "2007-01-01 00:00:00            1258.4             0.0            35.0   \n",
       "2007-01-01 02:00:00            1256.4             0.0            36.0   \n",
       "2007-01-01 04:00:00            1215.6             0.0            35.0   \n",
       "2007-01-01 06:00:00            1213.4             0.0            33.0   \n",
       "2007-01-01 08:00:00            1386.0             0.0             3.0   \n",
       "...                               ...             ...             ...   \n",
       "2007-12-31 16:00:00            1301.6             0.0            29.0   \n",
       "2007-12-31 18:00:00            1644.2             0.0            29.0   \n",
       "2007-12-31 20:00:00             876.2             0.0            28.0   \n",
       "2007-12-31 22:00:00             797.6             0.0            28.0   \n",
       "2008-01-01 00:00:00               6.6             0.0             0.0   \n",
       "\n",
       "                     Sub_metering_3  \n",
       "time                                 \n",
       "2007-01-01 00:00:00             0.0  \n",
       "2007-01-01 02:00:00             0.0  \n",
       "2007-01-01 04:00:00             0.0  \n",
       "2007-01-01 06:00:00             0.0  \n",
       "2007-01-01 08:00:00           722.0  \n",
       "...                             ...  \n",
       "2007-12-31 16:00:00          2116.0  \n",
       "2007-12-31 18:00:00          2040.0  \n",
       "2007-12-31 20:00:00          2086.0  \n",
       "2007-12-31 22:00:00          2135.0  \n",
       "2008-01-01 00:00:00            18.0  \n",
       "\n",
       "[4381 rows x 7 columns]"
      ]
     },
     "execution_count": 13,
     "metadata": {},
     "output_type": "execute_result"
    }
   ],
   "source": [
    "df_2007"
   ]
  },
  {
   "cell_type": "code",
   "execution_count": 14,
   "metadata": {
    "colab": {},
    "colab_type": "code",
    "id": "BfAsbIxuRp65"
   },
   "outputs": [],
   "source": [
    "df_2007.to_csv('power_consumption_2007.csv')\n",
    "df_2008.to_csv('power_consumption_2008.csv')\n",
    "df_2009.to_csv('power_consumption_2009.csv')\n",
    "df_2010.to_csv('power_consumption_2010.csv')"
   ]
  },
  {
   "cell_type": "markdown",
   "metadata": {
    "colab_type": "text",
    "id": "n3Aqkh6qc1jG"
   },
   "source": [
    "A continuación, leemos todos los datasets de datos meteorológicos y los concatenamos en el tiempo. (Igual es necesario renombrarlo como snowfall_1 [enero] para que esten en orden). Convertir las variables del viento en una sola: wind = sqrt(windu^2 + windv^2)"
   ]
  },
  {
   "cell_type": "code",
   "execution_count": 0,
   "metadata": {
    "colab": {},
    "colab_type": "code",
    "id": "2VLC-R1Rc7_H"
   },
   "outputs": [],
   "source": [
    "# Lista con todos los datasets:\n",
    "list_datasets_paths = []\n",
    "# Leemos uno a uno los datasets y los almacenamos en una lista:\n",
    "lists_datasets\n",
    "for path in list_datasets_paths:\n",
    "  weather_data = \n",
    "  lists_datasets.append(weather_data)\n",
    "# Hacemos un xr.concat(lista_datasets) \n",
    "# para tenerlos concatenados por la dimensión tiempo\n",
    "weather_total = xr.concat(lists_datasets, dim='time')\n",
    "# Convertimos las dos variables de viendo en una sola\n",
    "# y eliminamos las dos que no vamos a utilizar\n",
    "weather_total['wind'] = "
   ]
  },
  {
   "cell_type": "markdown",
   "metadata": {
    "colab_type": "text",
    "id": "sCONZEqCdqHl"
   },
   "source": [
    "Por último, concatenamos tanto el dataset de consumo eléctrico como el dataset de datos temporales."
   ]
  },
  {
   "cell_type": "code",
   "execution_count": 0,
   "metadata": {
    "colab": {},
    "colab_type": "code",
    "id": "QgXJ98fu3_Gu"
   },
   "outputs": [],
   "source": []
  }
 ],
 "metadata": {
  "colab": {
   "name": "Ciclo_de_vida_Datos_Trabajo.ipynb",
   "provenance": []
  },
  "kernelspec": {
   "display_name": "Python 3",
   "language": "python",
   "name": "python3"
  },
  "language_info": {
   "codemirror_mode": {
    "name": "ipython",
    "version": 3
   },
   "file_extension": ".py",
   "mimetype": "text/x-python",
   "name": "python",
   "nbconvert_exporter": "python",
   "pygments_lexer": "ipython3",
   "version": "3.7.5"
  }
 },
 "nbformat": 4,
 "nbformat_minor": 1
}
